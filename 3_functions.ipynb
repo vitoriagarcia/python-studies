{
 "cells": [
  {
   "cell_type": "markdown",
   "id": "0403832d",
   "metadata": {},
   "source": [
    "# 0 Functions"
   ]
  },
  {
   "cell_type": "markdown",
   "id": "4426438d",
   "metadata": {},
   "source": [
    "Functions are small programs created to be reused.\n",
    "<br> They can start with `def()` and have it's content is indented.\n",
    "<br> Other function option is the so called anonymous function inline. In Python: `lambda` function."
   ]
  },
  {
   "cell_type": "markdown",
   "id": "ea1219ea",
   "metadata": {},
   "source": [
    "In databases, there are functions and procedures.\n",
    "<br> Functions have calculation purposes and returns aggregation values.\n",
    "<br> Procedures are step-by-step processes.\n",
    "<br>\n",
    "<br> Otherwise, in Python, both of the operations are contemplated in functions."
   ]
  },
  {
   "cell_type": "markdown",
   "id": "07f7fdcf",
   "metadata": {},
   "source": [
    "# 1 `def` functions"
   ]
  },
  {
   "cell_type": "code",
   "execution_count": 1,
   "id": "481ab41f",
   "metadata": {},
   "outputs": [],
   "source": [
    "def function_name(arg1, arg2):\n",
    "    print('write here the args: ',arg1,arg2)\n",
    "    return"
   ]
  },
  {
   "cell_type": "code",
   "execution_count": 2,
   "id": "9a721f4c",
   "metadata": {},
   "outputs": [
    {
     "name": "stdout",
     "output_type": "stream",
     "text": [
      "write here the args:  2 1\n"
     ]
    }
   ],
   "source": [
    "function_name(2,1)"
   ]
  },
  {
   "cell_type": "markdown",
   "id": "49f4d3f8",
   "metadata": {},
   "source": [
    "# 2 Arguments (parameters)"
   ]
  },
  {
   "cell_type": "markdown",
   "id": "5c88760a",
   "metadata": {},
   "source": [
    "Arguments are informations thar can be passed to functions.\n",
    "<br> There is two types of function arguments:\n",
    "<br> <i>Positional</i> and <i>keyword</i>."
   ]
  },
  {
   "cell_type": "markdown",
   "id": "873c376d",
   "metadata": {},
   "source": [
    "## 2.1 Positional arguments"
   ]
  },
  {
   "cell_type": "markdown",
   "id": "8f9bddfa",
   "metadata": {},
   "source": [
    "As the name says, they are processed in the order that the function is written."
   ]
  },
  {
   "cell_type": "code",
   "execution_count": 3,
   "id": "11a36e33",
   "metadata": {},
   "outputs": [
    {
     "name": "stdout",
     "output_type": "stream",
     "text": [
      "1 2\n"
     ]
    }
   ],
   "source": [
    "def arguments(first,second):\n",
    "    print(first, second)\n",
    "    \n",
    "arguments(1,2)"
   ]
  },
  {
   "cell_type": "markdown",
   "id": "bc73a6b1",
   "metadata": {},
   "source": [
    "If we give just one argument, Python will return an error:"
   ]
  },
  {
   "cell_type": "code",
   "execution_count": 4,
   "id": "09448a51",
   "metadata": {
    "scrolled": false
   },
   "outputs": [
    {
     "ename": "NameError",
     "evalue": "name 'positional' is not defined",
     "output_type": "error",
     "traceback": [
      "\u001b[0;31m---------------------------------------------------------------------------\u001b[0m",
      "\u001b[0;31mNameError\u001b[0m                                 Traceback (most recent call last)",
      "\u001b[0;32m/var/folders/mw/6959n5l52rq_kq3g8n_bzkqw0000gn/T/ipykernel_82352/547363996.py\u001b[0m in \u001b[0;36m<module>\u001b[0;34m\u001b[0m\n\u001b[0;32m----> 1\u001b[0;31m \u001b[0mpositional\u001b[0m\u001b[0;34m(\u001b[0m\u001b[0;36m1\u001b[0m\u001b[0;34m)\u001b[0m\u001b[0;34m\u001b[0m\u001b[0;34m\u001b[0m\u001b[0m\n\u001b[0m",
      "\u001b[0;31mNameError\u001b[0m: name 'positional' is not defined"
     ]
    }
   ],
   "source": [
    "positional(1)"
   ]
  },
  {
   "cell_type": "markdown",
   "id": "508622a2",
   "metadata": {},
   "source": [
    "## 2.2 Keyword arguments"
   ]
  },
  {
   "cell_type": "markdown",
   "id": "7c674df9",
   "metadata": {},
   "source": [
    "Is a way to directly index the argument of the function:"
   ]
  },
  {
   "cell_type": "code",
   "execution_count": 5,
   "id": "e9d8303d",
   "metadata": {},
   "outputs": [
    {
     "name": "stdout",
     "output_type": "stream",
     "text": [
      "4 2\n"
     ]
    }
   ],
   "source": [
    "arguments(second=2,first=4)"
   ]
  },
  {
   "cell_type": "markdown",
   "id": "3d9673b5",
   "metadata": {},
   "source": [
    "(Sorry for the joke hehehe)"
   ]
  },
  {
   "cell_type": "markdown",
   "id": "4832eac7",
   "metadata": {},
   "source": [
    "## 2.3 Default parameter value"
   ]
  },
  {
   "cell_type": "markdown",
   "id": "0a3ff8a9",
   "metadata": {},
   "source": [
    "If no parameter is given, the parameter passed in the function declaration is applied."
   ]
  },
  {
   "cell_type": "code",
   "execution_count": 6,
   "id": "10068b2d",
   "metadata": {},
   "outputs": [],
   "source": [
    "def three_infos(name,fav_color,fav_season='fall'):\n",
    "    print(f'I am {name}, {fav_color} is my favorite color and {fav_season} is my favorite season.')\n",
    "    # remember the string escaping we learned in the first lesson? It's really useful!"
   ]
  },
  {
   "cell_type": "code",
   "execution_count": 7,
   "id": "356599f5",
   "metadata": {},
   "outputs": [
    {
     "name": "stdout",
     "output_type": "stream",
     "text": [
      "I am Vitória, grey is my favorite color and fall is my favorite season.\n"
     ]
    }
   ],
   "source": [
    "three_infos('Vitória','grey')"
   ]
  },
  {
   "cell_type": "markdown",
   "id": "335a00fa",
   "metadata": {},
   "source": [
    "## 2.4 Variable number of arguments `*args` or `**kwargs`"
   ]
  },
  {
   "cell_type": "markdown",
   "id": "876b3bac",
   "metadata": {},
   "source": [
    "These arguments allows us to pass variable number os arguments to a function, in a more flexible way.\n",
    "<br>\n",
    "<br><i>In other words:</i> when we see a function with one f those, it means that an arbitrary number of arguments is accepted.\n",
    "<br>\n",
    "<br>The * operator spread out elements as funtions arguments.\n",
    "<br> P.S.: 'args'/'kwargs' is just a name, it don't have to be used in the function signature.\n",
    "<br>\n",
    "<br> Let's start simple:"
   ]
  },
  {
   "cell_type": "code",
   "execution_count": 8,
   "id": "8c697ea2",
   "metadata": {},
   "outputs": [],
   "source": [
    "def sum_args(*args):\n",
    "    total = sum(args)\n",
    "    print(total)"
   ]
  },
  {
   "cell_type": "code",
   "execution_count": 9,
   "id": "44e5378d",
   "metadata": {},
   "outputs": [
    {
     "name": "stdout",
     "output_type": "stream",
     "text": [
      "11\n"
     ]
    }
   ],
   "source": [
    "sum_args(5,4,2)"
   ]
  },
  {
   "cell_type": "markdown",
   "id": "27a93717",
   "metadata": {},
   "source": [
    "`kwargs` stands for keyword arguments (yes, as the ones we saw above).\n",
    "<br> When we use it, the keyword  arguments passed are stored inside a dictionary (a dictionary called `kwargs`)."
   ]
  },
  {
   "cell_type": "code",
   "execution_count": 10,
   "id": "086436ba",
   "metadata": {},
   "outputs": [],
   "source": [
    "def print_info(**kwargs):\n",
    "    for key, value in kwargs.items():\n",
    "        print(f'{key}: {value}')"
   ]
  },
  {
   "cell_type": "code",
   "execution_count": 11,
   "id": "5cbdf74b",
   "metadata": {},
   "outputs": [
    {
     "name": "stdout",
     "output_type": "stream",
     "text": [
      "movie: Legally Blonde\n",
      "director: Robert Luketic\n",
      "year: 2001\n"
     ]
    }
   ],
   "source": [
    "print_info(movie='Legally Blonde',director='Robert Luketic', year='2001')"
   ]
  },
  {
   "cell_type": "markdown",
   "id": "1a58cffa",
   "metadata": {},
   "source": [
    "So, in this case, we deal with dictionaries and refer the value to a key (that is wide open for us to pass when calling the function)."
   ]
  },
  {
   "cell_type": "markdown",
   "id": "c680f0ae",
   "metadata": {},
   "source": [
    "Both `*args` and `**kwargs` can be mixed within a function. Or/and with positional arguments. That follow some rules:\n",
    "<br> For `*args` + positional arguments, `*args` should go at the end."
   ]
  },
  {
   "cell_type": "markdown",
   "id": "672338da",
   "metadata": {},
   "source": [
    "For the previous example but with a default argument, this argument should go at the end. So, in order:"
   ]
  },
  {
   "cell_type": "markdown",
   "id": "10f9bdaa",
   "metadata": {},
   "source": [
    "positional argument + `*args` + argument with default value"
   ]
  },
  {
   "cell_type": "markdown",
   "id": "bfda7bf6",
   "metadata": {},
   "source": [
    "For `*args`, `**kwargs` and positional arguments with default values, the rule is like the above, but we add the `**kwargs` at the very end.\n",
    "<br>Then:"
   ]
  },
  {
   "cell_type": "markdown",
   "id": "4b217a76",
   "metadata": {},
   "source": [
    "`*args` + positional arguments (with default values) + `**kwargs`"
   ]
  },
  {
   "cell_type": "markdown",
   "id": "956c8fc4",
   "metadata": {},
   "source": [
    "# 3 Nested functions"
   ]
  },
  {
   "cell_type": "markdown",
   "id": "c9de9df3",
   "metadata": {},
   "source": [
    "As the name says, it refers to the creation of a function inside another function."
   ]
  },
  {
   "cell_type": "code",
   "execution_count": 12,
   "id": "04b46b53",
   "metadata": {},
   "outputs": [],
   "source": [
    "def nesting():\n",
    "    print('Hey!')\n",
    "    def inside_nesting():\n",
    "        print(' That function is nested!')\n",
    "    inside_nesting()"
   ]
  },
  {
   "cell_type": "markdown",
   "id": "392d51a9",
   "metadata": {},
   "source": [
    "We just call the first function, because the inside one is the local one."
   ]
  },
  {
   "cell_type": "code",
   "execution_count": 13,
   "id": "b2909c38",
   "metadata": {},
   "outputs": [
    {
     "name": "stdout",
     "output_type": "stream",
     "text": [
      "Hey!\n",
      " That function is nested!\n"
     ]
    }
   ],
   "source": [
    "nesting()"
   ]
  },
  {
   "cell_type": "markdown",
   "id": "a86d5c14",
   "metadata": {},
   "source": [
    "# 4 `pass` statement"
   ]
  },
  {
   "cell_type": "markdown",
   "id": "2d0386a2",
   "metadata": {},
   "source": [
    "It is used in the case of the function content is empty (what is not allowed), as a placeholder to future code that doesn't let the code break."
   ]
  },
  {
   "cell_type": "code",
   "execution_count": 14,
   "id": "093c9669",
   "metadata": {},
   "outputs": [],
   "source": [
    "def passing():\n",
    "    pass"
   ]
  },
  {
   "cell_type": "code",
   "execution_count": 15,
   "id": "48c4762c",
   "metadata": {},
   "outputs": [],
   "source": [
    "passing()"
   ]
  },
  {
   "cell_type": "markdown",
   "id": "79416a3c",
   "metadata": {},
   "source": [
    "# 5 `lambda`  functions"
   ]
  },
  {
   "cell_type": "code",
   "execution_count": 16,
   "id": "b9766129",
   "metadata": {},
   "outputs": [
    {
     "data": {
      "text/plain": [
       "'What I just did? I used an anonymous function!'"
      ]
     },
     "execution_count": 16,
     "metadata": {},
     "output_type": "execute_result"
    }
   ],
   "source": [
    "lambda_function = lambda c: c+' I used an anonymous function!'\n",
    "lambda_function('What I just did?')"
   ]
  },
  {
   "cell_type": "markdown",
   "id": "8974b1e1",
   "metadata": {},
   "source": [
    "# That's it for functions!"
   ]
  },
  {
   "cell_type": "markdown",
   "id": "0e13c5a4",
   "metadata": {},
   "source": [
    "But there is MUCH more content to delve into (am I being repetitive?)"
   ]
  }
 ],
 "metadata": {
  "kernelspec": {
   "display_name": "Python 3 (ipykernel)",
   "language": "python",
   "name": "python3"
  },
  "language_info": {
   "codemirror_mode": {
    "name": "ipython",
    "version": 3
   },
   "file_extension": ".py",
   "mimetype": "text/x-python",
   "name": "python",
   "nbconvert_exporter": "python",
   "pygments_lexer": "ipython3",
   "version": "3.9.6"
  }
 },
 "nbformat": 4,
 "nbformat_minor": 5
}
