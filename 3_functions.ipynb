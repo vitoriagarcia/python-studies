{
 "cells": [
  {
   "cell_type": "markdown",
   "id": "d4dd9569",
   "metadata": {},
   "source": [
    "# 0 Functions"
   ]
  },
  {
   "cell_type": "markdown",
   "id": "129fae3c",
   "metadata": {},
   "source": [
    "Functions are small programs created to be reused.\n",
    "<br> They can start with `def()` and have it's content is indented.\n",
    "<br> Other function option is the so called anonymous function inline. In Python: `lambda` function."
   ]
  },
  {
   "cell_type": "markdown",
   "id": "f42acff5",
   "metadata": {},
   "source": [
    "In databases, there are functions and procedures.\n",
    "<br> Functions have calculation purposes and returns aggregation values.\n",
    "<br> Procedures are step-by-step processes.\n",
    "<br>\n",
    "<br> Otherwise, in Python, both of the operations are contemplated in functions."
   ]
  },
  {
   "cell_type": "markdown",
   "id": "ddb3f7af",
   "metadata": {},
   "source": [
    "# 1 `def` functions"
   ]
  },
  {
   "cell_type": "code",
   "execution_count": 41,
   "id": "a0014191",
   "metadata": {},
   "outputs": [],
   "source": [
    "def function_name(arg1, arg2):\n",
    "    print('write here the args: ',arg1,arg2)\n",
    "    return"
   ]
  },
  {
   "cell_type": "code",
   "execution_count": 17,
   "id": "1fa41f5d",
   "metadata": {},
   "outputs": [
    {
     "name": "stdout",
     "output_type": "stream",
     "text": [
      "write here the args:  2 1\n"
     ]
    }
   ],
   "source": [
    "function_name(2,1)"
   ]
  },
  {
   "cell_type": "markdown",
   "id": "f3853878",
   "metadata": {},
   "source": [
    "# 2 Arguments (parameters)"
   ]
  },
  {
   "cell_type": "markdown",
   "id": "b100c2a6",
   "metadata": {},
   "source": [
    "Arguments are informations thar can be passed to functions.\n",
    "<br> There is two types of function arguments:\n",
    "<br> `Positional` and `keyword`."
   ]
  },
  {
   "cell_type": "markdown",
   "id": "89923e66",
   "metadata": {},
   "source": [
    "## 2.1 Positional arguments"
   ]
  },
  {
   "cell_type": "markdown",
   "id": "3e518fd4",
   "metadata": {},
   "source": [
    "As the name says, they are processed in the order that the function is written."
   ]
  },
  {
   "cell_type": "code",
   "execution_count": 25,
   "id": "93478d48",
   "metadata": {},
   "outputs": [
    {
     "name": "stdout",
     "output_type": "stream",
     "text": [
      "1 2\n"
     ]
    }
   ],
   "source": [
    "def arguments(first,second):\n",
    "    print(first, second)\n",
    "    \n",
    "arguments(1,2)"
   ]
  },
  {
   "cell_type": "markdown",
   "id": "e4e5e510",
   "metadata": {},
   "source": [
    "If we give just one argument, Python will return an error:"
   ]
  },
  {
   "cell_type": "code",
   "execution_count": 24,
   "id": "430b4c1c",
   "metadata": {
    "scrolled": false
   },
   "outputs": [
    {
     "ename": "TypeError",
     "evalue": "positional() missing 1 required positional argument: 'second'",
     "output_type": "error",
     "traceback": [
      "\u001b[0;31m---------------------------------------------------------------------------\u001b[0m",
      "\u001b[0;31mTypeError\u001b[0m                                 Traceback (most recent call last)",
      "\u001b[0;32m/var/folders/mw/6959n5l52rq_kq3g8n_bzkqw0000gn/T/ipykernel_40253/547363996.py\u001b[0m in \u001b[0;36m<module>\u001b[0;34m\u001b[0m\n\u001b[0;32m----> 1\u001b[0;31m \u001b[0mpositional\u001b[0m\u001b[0;34m(\u001b[0m\u001b[0;36m1\u001b[0m\u001b[0;34m)\u001b[0m\u001b[0;34m\u001b[0m\u001b[0;34m\u001b[0m\u001b[0m\n\u001b[0m",
      "\u001b[0;31mTypeError\u001b[0m: positional() missing 1 required positional argument: 'second'"
     ]
    }
   ],
   "source": [
    "positional(1)"
   ]
  },
  {
   "cell_type": "markdown",
   "id": "06bd7b89",
   "metadata": {},
   "source": [
    "## 2.2 Keyword arguments"
   ]
  },
  {
   "cell_type": "markdown",
   "id": "127d3311",
   "metadata": {},
   "source": [
    "Is a way to directly index the argument of the function:"
   ]
  },
  {
   "cell_type": "code",
   "execution_count": 26,
   "id": "2b085627",
   "metadata": {},
   "outputs": [
    {
     "name": "stdout",
     "output_type": "stream",
     "text": [
      "4 2\n"
     ]
    }
   ],
   "source": [
    "arguments(second=2,first=4)"
   ]
  },
  {
   "cell_type": "markdown",
   "id": "d37cd5c9",
   "metadata": {},
   "source": [
    "(Sorry for the joke hehehe)"
   ]
  },
  {
   "cell_type": "markdown",
   "id": "f79a21e5",
   "metadata": {},
   "source": [
    "## 2.3 Default parameter value"
   ]
  },
  {
   "cell_type": "markdown",
   "id": "7adcfa8f",
   "metadata": {},
   "source": [
    "If no parameter is given, the parameter passed in the function declaration is applied."
   ]
  },
  {
   "cell_type": "code",
   "execution_count": 31,
   "id": "8b932c25",
   "metadata": {},
   "outputs": [],
   "source": [
    "def three_infos(name,fav_color,fav_season='fall'):\n",
    "    print(f'I am {name}, {fav_color} is my favorite color and {fav_season} is my favorite season.')\n",
    "    # remember the string escaping we learned in the first lesson? It's really useful!"
   ]
  },
  {
   "cell_type": "code",
   "execution_count": 29,
   "id": "79e87d9d",
   "metadata": {},
   "outputs": [
    {
     "name": "stdout",
     "output_type": "stream",
     "text": [
      "I am Vitória, grey is my favorite color and fall is my favorite season\n"
     ]
    }
   ],
   "source": [
    "three_infos('Vitória','grey')"
   ]
  },
  {
   "cell_type": "markdown",
   "id": "441f773d",
   "metadata": {},
   "source": [
    "## 2.4 Variable number of arguments `*args` or `**kwargs`"
   ]
  },
  {
   "cell_type": "markdown",
   "id": "1dca780a",
   "metadata": {},
   "source": [
    "These arguments allows us to pass variable number os arguments to a function, in a more flexible way.\n",
    "<br>\n",
    "<br><i>In other words:</i> when we see a function with one f those, it means that an arbitrary number of arguments is accepted.\n",
    "<br>\n",
    "<br>The * operator spread out elements as funtions arguments.\n",
    "<br> P.S.: 'args'/'kwargs' is just a name, it don't have to be used in the function signature.\n",
    "<br>\n",
    "<br> Let's start simple:"
   ]
  },
  {
   "cell_type": "code",
   "execution_count": 34,
   "id": "825549cd",
   "metadata": {},
   "outputs": [],
   "source": [
    "def sum_args(*args):\n",
    "    total = sum(args)\n",
    "    print(total)"
   ]
  },
  {
   "cell_type": "code",
   "execution_count": 36,
   "id": "69e7619e",
   "metadata": {},
   "outputs": [
    {
     "name": "stdout",
     "output_type": "stream",
     "text": [
      "11\n"
     ]
    }
   ],
   "source": [
    "sum_args(5,4,2)"
   ]
  },
  {
   "cell_type": "markdown",
   "id": "3f42972f",
   "metadata": {},
   "source": [
    "`kwargs` stands for keyword arguments (yes, as the ones we saw above).\n",
    "<br> When we use it, the keyword  arguments passed are stored inside a dictionary (a dictionary called `kwargs`)."
   ]
  },
  {
   "cell_type": "code",
   "execution_count": 39,
   "id": "79840dc1",
   "metadata": {},
   "outputs": [],
   "source": [
    "def print_info(**kwargs):\n",
    "    for key, value in kwargs.items():\n",
    "        print(f'{key}: {value}')"
   ]
  },
  {
   "cell_type": "code",
   "execution_count": 40,
   "id": "b14dbd02",
   "metadata": {},
   "outputs": [
    {
     "name": "stdout",
     "output_type": "stream",
     "text": [
      "movie: Legally Blonde\n",
      "director: Robert Luketic\n",
      "year: 2001\n"
     ]
    }
   ],
   "source": [
    "print_info(movie='Legally Blonde',director='Robert Luketic', year='2001')"
   ]
  },
  {
   "cell_type": "markdown",
   "id": "111ef73c",
   "metadata": {},
   "source": [
    "So, in this case, we deal with dictionaries and refer the value to a key (that is wide open for us to pass when calling the function)."
   ]
  },
  {
   "cell_type": "markdown",
   "id": "2904da47",
   "metadata": {},
   "source": [
    "Both `*args` and `**kwargs` can be mixed within a function. Or/and with positional arguments. That follow some rules:\n",
    "<br> For `*args` + positional arguments, `*args` should go at the end."
   ]
  },
  {
   "cell_type": "markdown",
   "id": "bc60a131",
   "metadata": {},
   "source": [
    "For the previous example but with a default argument, this argument should go at the end. So, in order:"
   ]
  },
  {
   "cell_type": "markdown",
   "id": "a5a8ccdf",
   "metadata": {},
   "source": [
    "positional argument + `*args` + argument with default value"
   ]
  },
  {
   "cell_type": "markdown",
   "id": "10cee05e",
   "metadata": {},
   "source": [
    "For `*args`, `**kwargs` and positional arguments with default values, the rule is like the above, but we add the `**kwargs` at the very end.\n",
    "<br>Then:"
   ]
  },
  {
   "cell_type": "markdown",
   "id": "19065d47",
   "metadata": {},
   "source": [
    "`*args` + positional arguments (with default values) + `**kwargs`"
   ]
  },
  {
   "cell_type": "markdown",
   "id": "b0848011",
   "metadata": {},
   "source": [
    "# 3 Nested functions"
   ]
  },
  {
   "cell_type": "markdown",
   "id": "28909231",
   "metadata": {},
   "source": [
    "As the name says, it refers to the creation of a function inside another function."
   ]
  },
  {
   "cell_type": "code",
   "execution_count": 47,
   "id": "adca5dec",
   "metadata": {},
   "outputs": [],
   "source": [
    "def nesting():\n",
    "    print('Hey!')\n",
    "    def inside_nesting():\n",
    "        print(' That function is nested!')\n",
    "    inside_nesting()"
   ]
  },
  {
   "cell_type": "markdown",
   "id": "97ce1f92",
   "metadata": {},
   "source": [
    "We just call the first function, because the inside one is the local one."
   ]
  },
  {
   "cell_type": "code",
   "execution_count": 48,
   "id": "490978a4",
   "metadata": {},
   "outputs": [
    {
     "name": "stdout",
     "output_type": "stream",
     "text": [
      "Hey!\n",
      " That function is nested!\n"
     ]
    }
   ],
   "source": [
    "nesting()"
   ]
  },
  {
   "cell_type": "markdown",
   "id": "38f020ad",
   "metadata": {},
   "source": [
    "# 4 `pass` statement"
   ]
  },
  {
   "cell_type": "markdown",
   "id": "a39afbc1",
   "metadata": {},
   "source": [
    "It is used in the case of the function content is empty (what is not allowed), as a placeholder to future code that doesn't let the code break."
   ]
  },
  {
   "cell_type": "code",
   "execution_count": 49,
   "id": "828b1e69",
   "metadata": {},
   "outputs": [],
   "source": [
    "def passing():\n",
    "    pass"
   ]
  },
  {
   "cell_type": "code",
   "execution_count": 50,
   "id": "915cabec",
   "metadata": {},
   "outputs": [],
   "source": [
    "passing()"
   ]
  },
  {
   "cell_type": "markdown",
   "id": "7c527123",
   "metadata": {},
   "source": [
    "# `lambda`  functions"
   ]
  },
  {
   "cell_type": "code",
   "execution_count": 9,
   "id": "1f040160",
   "metadata": {},
   "outputs": [
    {
     "data": {
      "text/plain": [
       "'What I just did? I used an anonymous function!'"
      ]
     },
     "execution_count": 9,
     "metadata": {},
     "output_type": "execute_result"
    }
   ],
   "source": [
    "lambda_function = lambda c: c+' I used an anonymous function!'\n",
    "lambda_function('What I just did?')"
   ]
  }
 ],
 "metadata": {
  "kernelspec": {
   "display_name": "Python 3 (ipykernel)",
   "language": "python",
   "name": "python3"
  },
  "language_info": {
   "codemirror_mode": {
    "name": "ipython",
    "version": 3
   },
   "file_extension": ".py",
   "mimetype": "text/x-python",
   "name": "python",
   "nbconvert_exporter": "python",
   "pygments_lexer": "ipython3",
   "version": "3.9.6"
  }
 },
 "nbformat": 4,
 "nbformat_minor": 5
}
