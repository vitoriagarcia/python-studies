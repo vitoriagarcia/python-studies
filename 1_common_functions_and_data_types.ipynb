{
 "cells": [
  {
   "cell_type": "markdown",
   "id": "8326cea9",
   "metadata": {},
   "source": [
    "# 0 Some important info about Python"
   ]
  },
  {
   "cell_type": "markdown",
   "id": "bcbd26f3",
   "metadata": {},
   "source": [
    "- case sentitive;\n",
    "- dynamic typing (which means you don't have to tell it the type of a variable - and can change a variable's type);\n",
    "- objected oriented."
   ]
  },
  {
   "cell_type": "markdown",
   "id": "1cb24944",
   "metadata": {},
   "source": [
    "# 1 Common built-in functions"
   ]
  },
  {
   "cell_type": "markdown",
   "id": "ace5a1ff",
   "metadata": {},
   "source": [
    "Built in functions are already defined and present for use.\n",
    "<br>For more: <https://docs.python.org/3/library/functions.html>"
   ]
  },
  {
   "cell_type": "markdown",
   "id": "77304fd0",
   "metadata": {},
   "source": [
    "`help()` gives you information about funcions, modules, topics etc. Type \"quit\" to close it.\n",
    "<br> `type()` shows a variable's type\n",
    "<br> `dir()` shows the current local scope (without args)"
   ]
  },
  {
   "cell_type": "markdown",
   "id": "97985e05",
   "metadata": {},
   "source": [
    "Besides those, one of the most common Python functions is:"
   ]
  },
  {
   "cell_type": "code",
   "execution_count": 1,
   "id": "8f0d974e",
   "metadata": {},
   "outputs": [
    {
     "name": "stdout",
     "output_type": "stream",
     "text": [
      "I'm not gonna say hello world\n"
     ]
    }
   ],
   "source": [
    "print(\"I'm not gonna say hello world\")"
   ]
  },
  {
   "cell_type": "markdown",
   "id": "de5a3db2",
   "metadata": {},
   "source": [
    "# 2 Variables"
   ]
  },
  {
   "cell_type": "markdown",
   "id": "b84726a9",
   "metadata": {},
   "source": [
    "Variables usually are written in lowercase.\n",
    "<br>When written uppercase, is usually means they're global or environment variables, such as:"
   ]
  },
  {
   "cell_type": "code",
   "execution_count": 2,
   "id": "95cd7ff1",
   "metadata": {},
   "outputs": [],
   "source": [
    "PATH     = '/location/second_level_location'\n",
    "USERNAME = 'person'\n",
    "PASSWORD = '1234'"
   ]
  },
  {
   "cell_type": "markdown",
   "id": "212b7c07",
   "metadata": {},
   "source": [
    "# 3 Data Types in Python"
   ]
  },
  {
   "cell_type": "markdown",
   "id": "705cc5da",
   "metadata": {},
   "source": [
    "## 3.1 Numeric types"
   ]
  },
  {
   "cell_type": "markdown",
   "id": "f725096d",
   "metadata": {},
   "source": [
    "### 3.1.1 `int`"
   ]
  },
  {
   "cell_type": "markdown",
   "id": "8be701ce",
   "metadata": {},
   "source": [
    "The simple whole (INTeger) number (either positive or negative), with NO decimal points."
   ]
  },
  {
   "cell_type": "code",
   "execution_count": 3,
   "id": "e2d592dc",
   "metadata": {},
   "outputs": [
    {
     "data": {
      "text/plain": [
       "int"
      ]
     },
     "execution_count": 3,
     "metadata": {},
     "output_type": "execute_result"
    }
   ],
   "source": [
    "one = 1\n",
    "type(one)"
   ]
  },
  {
   "cell_type": "markdown",
   "id": "54fa7eca",
   "metadata": {},
   "source": [
    "There's also the int function, that changes a value to integer:"
   ]
  },
  {
   "cell_type": "code",
   "execution_count": 4,
   "id": "8808b929",
   "metadata": {},
   "outputs": [
    {
     "data": {
      "text/plain": [
       "int"
      ]
     },
     "execution_count": 4,
     "metadata": {},
     "output_type": "execute_result"
    }
   ],
   "source": [
    "two = '2'\n",
    "two_int = int(two)\n",
    "type(two_int)"
   ]
  },
  {
   "cell_type": "markdown",
   "id": "45d2dd74",
   "metadata": {},
   "source": [
    "### 3.1.2 `float`"
   ]
  },
  {
   "cell_type": "markdown",
   "id": "9f10eaa2",
   "metadata": {},
   "source": [
    "Real numbers. They have the decimal point to split the integer and fractional part."
   ]
  },
  {
   "cell_type": "code",
   "execution_count": 5,
   "id": "9352f084",
   "metadata": {},
   "outputs": [
    {
     "data": {
      "text/plain": [
       "float"
      ]
     },
     "execution_count": 5,
     "metadata": {},
     "output_type": "execute_result"
    }
   ],
   "source": [
    "one_and_a_half = 1.5\n",
    "type(one_and_a_half)"
   ]
  },
  {
   "cell_type": "markdown",
   "id": "54af0035",
   "metadata": {},
   "source": [
    "Float also has a function to change a value to a floating point number, but you already got it, right?"
   ]
  },
  {
   "cell_type": "markdown",
   "id": "689e1eea",
   "metadata": {},
   "source": [
    "## 3.2 String data types"
   ]
  },
  {
   "cell_type": "markdown",
   "id": "42313689",
   "metadata": {},
   "source": [
    "### 3.2.1 `str`"
   ]
  },
  {
   "cell_type": "markdown",
   "id": "f691575e",
   "metadata": {},
   "source": [
    "Strings are a data type that uses single ('') or double (\"\") quotes to surround it's content.\n",
    "<br>\n",
    "We can use backslash `\\` to escape the quotes:"
   ]
  },
  {
   "cell_type": "code",
   "execution_count": 6,
   "id": "8ff3fb27",
   "metadata": {},
   "outputs": [
    {
     "name": "stdout",
     "output_type": "stream",
     "text": [
      "Isn't she wonderful?\n"
     ]
    }
   ],
   "source": [
    "print('Isn\\'t she wonderful?') # for single quote"
   ]
  },
  {
   "cell_type": "code",
   "execution_count": 7,
   "id": "91797747",
   "metadata": {},
   "outputs": [
    {
     "name": "stdout",
     "output_type": "stream",
     "text": [
      "\"Hi!\" was the first thing she said.\n"
     ]
    }
   ],
   "source": [
    "print(\"\\\"Hi!\\\" was the first thing she said.\") # for double quotes"
   ]
  },
  {
   "cell_type": "markdown",
   "id": "e97d47bb",
   "metadata": {},
   "source": [
    "We can write bigger strings that fill multiple lines using triple quotes (double or single quotes can be used):"
   ]
  },
  {
   "cell_type": "code",
   "execution_count": 8,
   "id": "1196463e",
   "metadata": {},
   "outputs": [
    {
     "name": "stdout",
     "output_type": "stream",
     "text": [
      "Há sempre um deus fantástico nas Casas\n",
      "Em que eu vivo, e em volta dos meus passos\n",
      "Eu sinto os grandes anjos cujas asas\n",
      "Contêm todo o vento dos espaços.\n",
      "    - Sophia de Mello Breyner Andresen\n"
     ]
    }
   ],
   "source": [
    "as_casas = \"\"\"Há sempre um deus fantástico nas Casas\n",
    "Em que eu vivo, e em volta dos meus passos\n",
    "Eu sinto os grandes anjos cujas asas\n",
    "Contêm todo o vento dos espaços.\n",
    "    - Sophia de Mello Breyner Andresen\"\"\"\n",
    "print(as_casas)"
   ]
  },
  {
   "cell_type": "markdown",
   "id": "361c3abb",
   "metadata": {},
   "source": [
    "### 3.2.1 Formating strings"
   ]
  },
  {
   "cell_type": "markdown",
   "id": "5a3b16c7",
   "metadata": {},
   "source": [
    "Allows to interpolate something inside a string.\n",
    "<br>Using the letter `f` at the beginning of the variable and curly braces surrounding the variable that will be interpolated in the string:"
   ]
  },
  {
   "cell_type": "code",
   "execution_count": 9,
   "id": "3c375445",
   "metadata": {},
   "outputs": [
    {
     "name": "stdout",
     "output_type": "stream",
     "text": [
      "The score of your test is 8.5\n"
     ]
    }
   ],
   "source": [
    "score = 8.5\n",
    "print(f'The score of your test is {score}')"
   ]
  },
  {
   "cell_type": "markdown",
   "id": "ccf15301",
   "metadata": {},
   "source": [
    "There's also a way of formatting strings using `%` followed by some letter.\n",
    "<br> Such as `%f` for float, %s for string, `%d` for decimal integers and so on."
   ]
  },
  {
   "cell_type": "markdown",
   "id": "1ecdab2c",
   "metadata": {},
   "source": [
    "<i>Strings can be indexed!"
   ]
  },
  {
   "cell_type": "code",
   "execution_count": 10,
   "id": "bb3eca6a",
   "metadata": {},
   "outputs": [
    {
     "data": {
      "text/plain": [
       "'Em que eu vivo, e em volta dos meus passos'"
      ]
     },
     "execution_count": 10,
     "metadata": {},
     "output_type": "execute_result"
    }
   ],
   "source": [
    "as_casas[39:81]"
   ]
  },
  {
   "cell_type": "markdown",
   "id": "bd8cb839",
   "metadata": {},
   "source": [
    "## 3.3 Sequence types"
   ]
  },
  {
   "cell_type": "markdown",
   "id": "15d49f2f",
   "metadata": {},
   "source": [
    "### 3.3.1 Lists"
   ]
  },
  {
   "cell_type": "markdown",
   "id": "7584f551",
   "metadata": {},
   "source": [
    "A list is an ordered and changeable collection.\n",
    "<br> It's items can be duplicated.\n",
    "<br> It's values are surrounded in brackets ([ ]).\n",
    "<br> It can contain multiple data types.\n",
    "<br> It also can be indexed."
   ]
  },
  {
   "cell_type": "code",
   "execution_count": 11,
   "id": "f47452d2",
   "metadata": {},
   "outputs": [],
   "source": [
    "pencil_colors = ['ocre', 'grey', 'light rose', 'light blue', 'ocre']"
   ]
  },
  {
   "cell_type": "markdown",
   "id": "86382327",
   "metadata": {},
   "source": [
    "### 3.3.2 Tuples"
   ]
  },
  {
   "cell_type": "markdown",
   "id": "8f5e4965",
   "metadata": {},
   "source": [
    "A tuple is an ordered and UNCHANGEABLE collection.\n",
    "<br> It's items also allow duplicated values.\n",
    "<br> It's values are surrounded with round brackets."
   ]
  },
  {
   "cell_type": "code",
   "execution_count": 12,
   "id": "452c7979",
   "metadata": {},
   "outputs": [],
   "source": [
    "pencil_colors = ('ocre', 'grey', 'light rose', 'light blue', 'ocre')"
   ]
  },
  {
   "cell_type": "markdown",
   "id": "a1cea562",
   "metadata": {},
   "source": [
    "The main difference between lists and tuples is that lists <i>can be changed</i> (besides the surrounding notation, of course)."
   ]
  },
  {
   "cell_type": "markdown",
   "id": "eb329c35",
   "metadata": {},
   "source": [
    "### 3.3.3 Range"
   ]
  },
  {
   "cell_type": "markdown",
   "id": "ea9b8ac8",
   "metadata": {},
   "source": [
    "`range()` function is used to create a sequence of numbers (multivalues) over time.\n",
    "<br> It acceps an integer and returns a range object (tipe of iterable).\n",
    "<br> Range syntax: "
   ]
  },
  {
   "cell_type": "code",
   "execution_count": 13,
   "id": "ddfe5629",
   "metadata": {},
   "outputs": [],
   "source": [
    "# range(start, stop, step)"
   ]
  },
  {
   "cell_type": "markdown",
   "id": "06b93a50",
   "metadata": {},
   "source": [
    "<i>start</i>: optional - an int that specifies the start position (0 is default)\n",
    "<br><i>stop</i>: required - also an int that specifies the stop position\n",
    "<br><i>step</i>: optional - once again an int that specifies the incrementation value (1 is default)"
   ]
  },
  {
   "cell_type": "code",
   "execution_count": 14,
   "id": "add30f0d",
   "metadata": {},
   "outputs": [
    {
     "data": {
      "text/plain": [
       "[26, 71, 116, 161, 206]"
      ]
     },
     "execution_count": 14,
     "metadata": {},
     "output_type": "execute_result"
    }
   ],
   "source": [
    "range_var = range(26, 234, 45)\n",
    "list(range_var)"
   ]
  },
  {
   "cell_type": "markdown",
   "id": "40e41b48",
   "metadata": {},
   "source": [
    "## 3.4 Binary types"
   ]
  },
  {
   "cell_type": "markdown",
   "id": "029d7d35",
   "metadata": {},
   "source": [
    "### 3.4.1 `bytes`"
   ]
  },
  {
   "cell_type": "markdown",
   "id": "898f177e",
   "metadata": {},
   "source": [
    "An immutable object that is used to manipulate binary data (a byte is a set od 8 bits of 0 or 1).\n",
    "<br> When converting a string, use the letter b in the beginning:"
   ]
  },
  {
   "cell_type": "code",
   "execution_count": 15,
   "id": "8046cbe7",
   "metadata": {},
   "outputs": [
    {
     "data": {
      "text/plain": [
       "bytes"
      ]
     },
     "execution_count": 15,
     "metadata": {},
     "output_type": "execute_result"
    }
   ],
   "source": [
    "lots_of_bytes = b'some_string'\n",
    "type(lots_of_bytes)"
   ]
  },
  {
   "cell_type": "markdown",
   "id": "e6f7107d",
   "metadata": {},
   "source": [
    "For integers:"
   ]
  },
  {
   "cell_type": "code",
   "execution_count": 16,
   "id": "1c97b948",
   "metadata": {},
   "outputs": [
    {
     "data": {
      "text/plain": [
       "b'\\x00\\x00\\x00'"
      ]
     },
     "execution_count": 16,
     "metadata": {},
     "output_type": "execute_result"
    }
   ],
   "source": [
    "bytes(3)"
   ]
  },
  {
   "cell_type": "markdown",
   "id": "149c20e8",
   "metadata": {},
   "source": [
    "When using a string inside the `bytes()` function, we have to inform the encodig."
   ]
  },
  {
   "cell_type": "markdown",
   "id": "c9c43d08",
   "metadata": {},
   "source": [
    "### 3.4.2 `bytearray`"
   ]
  },
  {
   "cell_type": "markdown",
   "id": "e16420bf",
   "metadata": {},
   "source": [
    "`bytearray` is a method that returns an array object of given given bites.\n",
    "<br> It is <i>immutable</i>."
   ]
  },
  {
   "cell_type": "code",
   "execution_count": 17,
   "id": "6e1a5c9c",
   "metadata": {},
   "outputs": [
    {
     "name": "stdout",
     "output_type": "stream",
     "text": [
      "bytearray(b'\\x00\\x00\\x00\\x00\\x00\\x00\\x00\\x00\\x00\\x00\\x00\\x00\\x00\\x00\\x00\\x00\\x00\\x00\\x00\\x00\\x00\\x00\\x00\\x00\\x00\\x00\\x00\\x00\\x00\\x00\\x00\\x00\\x00\\x00\\x00\\x00\\x00\\x00\\x00\\x00\\x00\\x00\\x00\\x00\\x00\\x00\\x00\\x00\\x00\\x00\\x00\\x00\\x00\\x00\\x00\\x00\\x00\\x00\\x00\\x00\\x00\\x00\\x00\\x00\\x00\\x00\\x00\\x00\\x00\\x00\\x00\\x00\\x00\\x00\\x00\\x00\\x00\\x00\\x00\\x00\\x00\\x00\\x00\\x00\\x00\\x00\\x00\\x00\\x00\\x00\\x00\\x00\\x00\\x00\\x00\\x00\\x00\\x00\\x00')\n"
     ]
    },
    {
     "data": {
      "text/plain": [
       "bytearray"
      ]
     },
     "execution_count": 17,
     "metadata": {},
     "output_type": "execute_result"
    }
   ],
   "source": [
    "bytes_mutable = bytearray(99)\n",
    "print(bytes_mutable)\n",
    "type(bytes_mutable)"
   ]
  },
  {
   "cell_type": "markdown",
   "id": "482ac0b6",
   "metadata": {},
   "source": [
    "The difference between bytes and bytearray is the mutabilitty."
   ]
  },
  {
   "cell_type": "markdown",
   "id": "cd54b09d",
   "metadata": {},
   "source": [
    "### 3.4.3 `memoryview`"
   ]
  },
  {
   "cell_type": "markdown",
   "id": "e7b8097f",
   "metadata": {},
   "source": [
    "`memoryview` function returns a view of a bytes-like object.\n",
    "<br>It uses <i>buffer protocol</i> to allow memory access to other binary objects with no need to make a copy."
   ]
  },
  {
   "cell_type": "code",
   "execution_count": 18,
   "id": "e2995f82",
   "metadata": {},
   "outputs": [
    {
     "data": {
      "text/plain": [
       "<memory at 0x10987d580>"
      ]
     },
     "execution_count": 18,
     "metadata": {},
     "output_type": "execute_result"
    }
   ],
   "source": [
    "memoryview(lots_of_bytes)"
   ]
  },
  {
   "cell_type": "markdown",
   "id": "c667e2e2",
   "metadata": {},
   "source": [
    "## 3.5 Mapping data type"
   ]
  },
  {
   "cell_type": "markdown",
   "id": "3fd2a7d1",
   "metadata": {},
   "source": [
    "### 3.5.1 Dictionaries"
   ]
  },
  {
   "cell_type": "markdown",
   "id": "4a89516e",
   "metadata": {},
   "source": [
    "Is a data type that follows the 'index: data' structure."
   ]
  },
  {
   "cell_type": "markdown",
   "id": "63c1b464",
   "metadata": {},
   "source": [
    "The value before the colon is the <i>key</i> and after is it's <i>value</i>.\n",
    "<br>The key is the index to the value.\n",
    "<br>Duplicatd keys are NOT allowed, but duplicated values are (when keys are duplicated, Python doesn't print an error, but it deletes the duplicated(s) key-value pair(s))."
   ]
  },
  {
   "cell_type": "markdown",
   "id": "a989cb49",
   "metadata": {},
   "source": [
    "The values can be multiple (multivalue), such as a list."
   ]
  },
  {
   "cell_type": "code",
   "execution_count": 19,
   "id": "6253c444",
   "metadata": {
    "scrolled": true
   },
   "outputs": [
    {
     "data": {
      "text/plain": [
       "dict"
      ]
     },
     "execution_count": 19,
     "metadata": {},
     "output_type": "execute_result"
    }
   ],
   "source": [
    "dogs_age = {'Miles':'4mo', 'Hiro':'5yo', 'Romeu':'9yo', 'Barthô':'10yo'}\n",
    "type(dogs_age)"
   ]
  },
  {
   "cell_type": "markdown",
   "id": "08ffd1b8",
   "metadata": {},
   "source": [
    "### 3.5.2 `set`"
   ]
  },
  {
   "cell_type": "markdown",
   "id": "933e6ed8",
   "metadata": {},
   "source": [
    "A set is a UNORDERED an UNINDEXED collection.\n",
    "<br> Only unique values are allowed: <i>no duplicates</i>.\n",
    "<br> It is surrounded by curly brackets."
   ]
  },
  {
   "cell_type": "markdown",
   "id": "56594df1",
   "metadata": {},
   "source": [
    "If we create an empty variable with curly brackets, Python will understand it is a <i>dictionary</i>.\n",
    "<br>But if we put single values within, it will dynamically change the type to a dictionary."
   ]
  },
  {
   "cell_type": "code",
   "execution_count": 20,
   "id": "b4489a86",
   "metadata": {},
   "outputs": [
    {
     "data": {
      "text/plain": [
       "dict"
      ]
     },
     "execution_count": 20,
     "metadata": {},
     "output_type": "execute_result"
    }
   ],
   "source": [
    "empty = {}\n",
    "type(empty)"
   ]
  },
  {
   "cell_type": "code",
   "execution_count": 21,
   "id": "44d0095c",
   "metadata": {},
   "outputs": [
    {
     "data": {
      "text/plain": [
       "set"
      ]
     },
     "execution_count": 21,
     "metadata": {},
     "output_type": "execute_result"
    }
   ],
   "source": [
    "not_empty = {9,6,5}\n",
    "type(not_empty)"
   ]
  },
  {
   "cell_type": "markdown",
   "id": "330dd8c4",
   "metadata": {},
   "source": [
    "The main difference between sets and dictionaries are the <i>indexes</i>.\n",
    "<br>Dicts HAVE indexes, while list DON'T."
   ]
  },
  {
   "cell_type": "markdown",
   "id": "cd442623",
   "metadata": {},
   "source": [
    "## 3.6 Boolean type"
   ]
  },
  {
   "cell_type": "markdown",
   "id": "37e1df9a",
   "metadata": {},
   "source": [
    "### 3.6.1 `bool`"
   ]
  },
  {
   "cell_type": "markdown",
   "id": "b9042640",
   "metadata": {},
   "source": [
    "A binary data type that can have two values: `True` (1) or `False` (0).\n",
    "<br>In Python is importante to use camel case!"
   ]
  },
  {
   "cell_type": "code",
   "execution_count": 22,
   "id": "1331b47f",
   "metadata": {},
   "outputs": [
    {
     "data": {
      "text/plain": [
       "bool"
      ]
     },
     "execution_count": 22,
     "metadata": {},
     "output_type": "execute_result"
    }
   ],
   "source": [
    "is_python_cool_question_mark = True\n",
    "type(is_python_cool_question_mark)"
   ]
  },
  {
   "cell_type": "markdown",
   "id": "5dedda41",
   "metadata": {},
   "source": [
    "We can also make the reverse path and check the boolean quality of a number:"
   ]
  },
  {
   "cell_type": "code",
   "execution_count": 23,
   "id": "86a1ebfb",
   "metadata": {
    "scrolled": true
   },
   "outputs": [
    {
     "data": {
      "text/plain": [
       "False"
      ]
     },
     "execution_count": 23,
     "metadata": {},
     "output_type": "execute_result"
    }
   ],
   "source": [
    "bool(0)"
   ]
  },
  {
   "cell_type": "markdown",
   "id": "34c5ee71",
   "metadata": {},
   "source": [
    "In this case, all number except zero will be considered as True for boolean."
   ]
  },
  {
   "cell_type": "markdown",
   "id": "d99619a4",
   "metadata": {},
   "source": [
    "## 3.7 Set data sypes"
   ]
  },
  {
   "cell_type": "markdown",
   "id": "448f0e93",
   "metadata": {},
   "source": [
    "### 3.7.1 `set`"
   ]
  },
  {
   "cell_type": "markdown",
   "id": "015e8899",
   "metadata": {},
   "source": [
    "Description in the 3.5.2 item."
   ]
  },
  {
   "cell_type": "markdown",
   "id": "57dbd1d7",
   "metadata": {},
   "source": [
    "### 3.7.2 `frozenset`"
   ]
  },
  {
   "cell_type": "markdown",
   "id": "f04a2b0a",
   "metadata": {},
   "source": [
    "A built in function that takes an iterable object as input an males them immutable.\n",
    "<br> It just make the objects static (unchangeable)."
   ]
  },
  {
   "cell_type": "code",
   "execution_count": 24,
   "id": "fcd7c3be",
   "metadata": {},
   "outputs": [],
   "source": [
    "dogs_age = frozenset(dogs_age)"
   ]
  },
  {
   "cell_type": "markdown",
   "id": "bfd57d10",
   "metadata": {},
   "source": [
    "## 3.8 Data Structures (collections)"
   ]
  },
  {
   "cell_type": "markdown",
   "id": "7917f238",
   "metadata": {},
   "source": [
    "### 3.8.1 List"
   ]
  },
  {
   "cell_type": "markdown",
   "id": "c671d9d4",
   "metadata": {},
   "source": [
    "Indexed an ordered variable.\n",
    "<br> Allows duplicates."
   ]
  },
  {
   "cell_type": "markdown",
   "id": "216da744",
   "metadata": {},
   "source": [
    "### 3.8.2 Tuple"
   ]
  },
  {
   "cell_type": "markdown",
   "id": "74cf2da6",
   "metadata": {},
   "source": [
    "Constant variable.\n",
    "<br> Not duplicates"
   ]
  },
  {
   "cell_type": "markdown",
   "id": "59f38c46",
   "metadata": {},
   "source": [
    "### 3.8.3 Range"
   ]
  },
  {
   "cell_type": "markdown",
   "id": "4837455d",
   "metadata": {},
   "source": [
    "Generates sequence data."
   ]
  },
  {
   "cell_type": "markdown",
   "id": "38d0f1e6",
   "metadata": {},
   "source": [
    "### 3.8.4 `set`"
   ]
  },
  {
   "cell_type": "markdown",
   "id": "06d2fa82",
   "metadata": {},
   "source": [
    "Allows duplicates.\n",
    "<br> Unindexed data."
   ]
  },
  {
   "cell_type": "markdown",
   "id": "a80b6c6e",
   "metadata": {},
   "source": [
    "### 3.8.5 `frozenset`"
   ]
  },
  {
   "cell_type": "markdown",
   "id": "38dde3f2",
   "metadata": {},
   "source": [
    "An immutable version of a set."
   ]
  },
  {
   "cell_type": "markdown",
   "id": "c5e2059e",
   "metadata": {},
   "source": [
    "### 3.8.6 Dictionary"
   ]
  },
  {
   "cell_type": "markdown",
   "id": "be5a9540",
   "metadata": {},
   "source": [
    "Data collection based in the 'key':'value' model."
   ]
  },
  {
   "cell_type": "markdown",
   "id": "68207f17",
   "metadata": {},
   "source": [
    "## 3.9 Date & Time types"
   ]
  },
  {
   "cell_type": "markdown",
   "id": "bfae54b9",
   "metadata": {},
   "source": [
    "First things first:\n",
    "<br>These data types modules need to be imported (it is a good practice to keep the imports in the beginning of the code, but I'll let it here just for educational purposes)"
   ]
  },
  {
   "cell_type": "code",
   "execution_count": 25,
   "id": "c3db2f6d",
   "metadata": {},
   "outputs": [],
   "source": [
    "import datetime"
   ]
  },
  {
   "cell_type": "markdown",
   "id": "21220952",
   "metadata": {},
   "source": [
    "To display the current time:"
   ]
  },
  {
   "cell_type": "code",
   "execution_count": 26,
   "id": "f456c295",
   "metadata": {},
   "outputs": [],
   "source": [
    "present_time = datetime.datetime.now()"
   ]
  },
  {
   "cell_type": "markdown",
   "id": "6d9cc9a5",
   "metadata": {},
   "source": [
    "In this case, the first 'datetime' is for calling the Python module and the second is the actual function.\n",
    "<br> We can also write an alias (something like a nickname) to make it shorter, such as:"
   ]
  },
  {
   "cell_type": "code",
   "execution_count": 27,
   "id": "4d7f02c6",
   "metadata": {},
   "outputs": [],
   "source": [
    "import datetime as dt"
   ]
  },
  {
   "cell_type": "markdown",
   "id": "ce32bfcc",
   "metadata": {},
   "source": [
    "### 3.9.1 `strftime()`"
   ]
  },
  {
   "cell_type": "markdown",
   "id": "0b38de4e",
   "metadata": {},
   "source": [
    "`strftime()` method converts datetime methods to strings and can be vastly formated (e.g. '%Y', '%m', '%d', '%B', '%w')"
   ]
  },
  {
   "cell_type": "code",
   "execution_count": 28,
   "id": "43167afc",
   "metadata": {},
   "outputs": [
    {
     "name": "stdout",
     "output_type": "stream",
     "text": [
      "2023\n"
     ]
    }
   ],
   "source": [
    "this_year = present_time.strftime('%Y')\n",
    "print(this_year)"
   ]
  },
  {
   "cell_type": "markdown",
   "id": "13fe5e3e",
   "metadata": {},
   "source": [
    "Here is a table, found at [Programiz](https://www.programiz.com/python-programming/datetime/strftime), that shows the possible formats."
   ]
  },
  {
   "cell_type": "markdown",
   "id": "4c2f118f",
   "metadata": {},
   "source": [
    "| Directive | Meaning                                                                                                                                          | Example                  |   |   |\n",
    "|-----------|--------------------------------------------------------------------------------------------------------------------------------------------------|--------------------------|---|---|\n",
    "| %a        | Abbreviated weekday name.                                                                                                                        | Sun, Mon, ...            |   |   |\n",
    "| %A        | Full weekday name.                                                                                                                               | Sunday, Monday, ...      |   |   |\n",
    "| %w        | Weekday as a decimal number.                                                                                                                     | 0, 1, ..., 6             |   |   |\n",
    "| %d        | Day of the month as a zero-padded decimal.                                                                                                       | 01, 02, ..., 31          |   |   |\n",
    "| %-d       | Day of the month as a decimal number.                                                                                                            | 1, 2, ..., 30            |   |   |\n",
    "| %b        | Abbreviated month name.                                                                                                                          | Jan, Feb, ..., Dec       |   |   |\n",
    "| %B        | Full month name.                                                                                                                                 | January, February, ...   |   |   |\n",
    "| %m        | Month as a zero-padded decimal number.                                                                                                           | 01, 02, ..., 12          |   |   |\n",
    "| %-m       | Month as a decimal number.                                                                                                                       | 1, 2, ..., 12            |   |   |\n",
    "| %y        | Year without century as a zero-padded decimal number.                                                                                            | 00, 01, ..., 99          |   |   |\n",
    "| %-y       | Year without century as a decimal number.                                                                                                        | 0, 1, ..., 99            |   |   |\n",
    "| %Y        | Year with century as a decimal number.                                                                                                           | 2013, 2019 etc.          |   |   |\n",
    "| %H        | Hour (24-hour clock) as a zero-padded decimal number.                                                                                            | 00, 01, ..., 23          |   |   |\n",
    "| %-H       | Hour (24-hour clock) as a decimal number.                                                                                                        | 0, 1, ..., 23            |   |   |\n",
    "| %I        | Hour (12-hour clock) as a zero-padded decimal number.                                                                                            | 01, 02, ..., 12          |   |   |\n",
    "| %-I       | Hour (12-hour clock) as a decimal number.                                                                                                        | 1, 2, ... 12             |   |   |\n",
    "| %p        | Locale’s AM or PM.                                                                                                                               | AM, PM                   |   |   |\n",
    "| %M        | Minute as a zero-padded decimal number.                                                                                                          | 00, 01, ..., 59          |   |   |\n",
    "| %-M       | Minute as a decimal number.                                                                                                                      | 0, 1, ..., 59            |   |   |\n",
    "| %S        | Second as a zero-padded decimal number.                                                                                                          | 00, 01, ..., 59          |   |   |\n",
    "| %-S       | Second as a decimal number.                                                                                                                      | 0, 1, ..., 59            |   |   |\n",
    "| %f        | Microsecond as a decimal number, zero-padded on the left.                                                                                        | 000000 - 999999          |   |   |\n",
    "| %z        | UTC offset in the form +HHMM or -HHMM.                                                                                                           |                          |   |   |\n",
    "| %Z        | Time zone name.                                                                                                                                  |                          |   |   |\n",
    "| %j        | Day of the year as a zero-padded decimal number.                                                                                                 | 001, 002, ..., 366       |   |   |\n",
    "| %-j       | Day of the year as a decimal number.                                                                                                             | 1, 2, ..., 366           |   |   |\n",
    "| %U        | Week number of the year (Sunday as the first day of the week). All days in a new year preceding the first Sunday are considered to be in week 0. | 00, 01, ..., 53          |   |   |\n",
    "| %W        | Week number of the year (Monday as the first day of the week). All days in a new year preceding the first Monday are considered to be in week 0. | 00, 01, ..., 53          |   |   |\n",
    "| %c        | Locale’s appropriate date and time representation.                                                                                               | Mon Sep 30 07:06:05 2013 |   |   |\n",
    "| %x        | Locale’s appropriate date representation.                                                                                                        | 09/30/13                 |   |   |\n",
    "| %X        | Locale’s appropriate time representation.                                                                                                        | 07:06:05                 |   |   |\n",
    "| %%        | A literal '%' character.                                                                                                                         | %                        |   |   |"
   ]
  },
  {
   "cell_type": "markdown",
   "id": "ee8bff56",
   "metadata": {},
   "source": [
    "### 3.9.2 `strptime()`"
   ]
  },
  {
   "cell_type": "markdown",
   "id": "4de8c2b8",
   "metadata": {},
   "source": [
    "Is a method that create a datetime object from a string - but only when the string is formated in certain ways."
   ]
  },
  {
   "cell_type": "code",
   "execution_count": 29,
   "id": "658710aa",
   "metadata": {},
   "outputs": [
    {
     "name": "stdout",
     "output_type": "stream",
     "text": [
      "2023-04-07 00:00:00\n"
     ]
    }
   ],
   "source": [
    "today = \"7 April, 2023\"\n",
    "today_date_object = dt.datetime.strptime(today, \"%d %B, %Y\")\n",
    "\n",
    "print(today_date_object)"
   ]
  },
  {
   "cell_type": "markdown",
   "id": "54237f79",
   "metadata": {},
   "source": [
    "# See you in the next notebook!"
   ]
  },
  {
   "cell_type": "markdown",
   "id": "70baf1cc",
   "metadata": {},
   "source": [
    "That's it for data types! But first, a reminder: this is just the summary of [TechLake](https://www.youtube.com/@TRRaveendra) Python for Data Engineering course that I used to learn Python core + some knowledge I gathered working in the data field."
   ]
  }
 ],
 "metadata": {
  "kernelspec": {
   "display_name": "Python 3 (ipykernel)",
   "language": "python",
   "name": "python3"
  },
  "language_info": {
   "codemirror_mode": {
    "name": "ipython",
    "version": 3
   },
   "file_extension": ".py",
   "mimetype": "text/x-python",
   "name": "python",
   "nbconvert_exporter": "python",
   "pygments_lexer": "ipython3",
   "version": "3.9.6"
  }
 },
 "nbformat": 4,
 "nbformat_minor": 5
}
