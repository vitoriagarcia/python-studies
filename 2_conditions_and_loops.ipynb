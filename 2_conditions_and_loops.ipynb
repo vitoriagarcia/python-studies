{
 "cells": [
  {
   "cell_type": "markdown",
   "id": "70529440",
   "metadata": {},
   "source": [
    "# 0 Conditional executions and loops"
   ]
  },
  {
   "cell_type": "markdown",
   "id": "718ec7e3",
   "metadata": {},
   "source": [
    "Both these structures are vastly used in Python code.\n",
    "<br>Condition is extremely needed to validate data before (or in order to) take some decision.\n",
    "<br> Loops save time in repetitive tasks."
   ]
  },
  {
   "cell_type": "markdown",
   "id": "bb86fba3",
   "metadata": {},
   "source": [
    "# 1 Indentation"
   ]
  },
  {
   "cell_type": "markdown",
   "id": "26c880f7",
   "metadata": {},
   "source": [
    "Before starting to write our code, is important to know that Python expects us to follow its syntax.\n",
    "<br> It means that some rules were made so the interpreter and us can establish a proper communication.\n",
    "<br> For this, in some cases, we have to add some space before lines (that is called <i>indentation</i>) to show Python that this line belongs to some specific scope."
   ]
  },
  {
   "cell_type": "markdown",
   "id": "8db642ca",
   "metadata": {},
   "source": [
    "# 2 Conditions"
   ]
  },
  {
   "cell_type": "markdown",
   "id": "61824803",
   "metadata": {},
   "source": [
    "## 2.1 `if` statements"
   ]
  },
  {
   "cell_type": "markdown",
   "id": "8180f8ce",
   "metadata": {},
   "source": [
    "We can think that if it is like a gatekeeper.\n",
    "When someone knocks at the door and gives the right answers to if's question (the right answer being `True`), if opens the door and lets the person come in (or, in the programming world, the flow continues)."
   ]
  },
  {
   "cell_type": "code",
   "execution_count": 1,
   "id": "b9e92843",
   "metadata": {},
   "outputs": [],
   "source": [
    "if 'condition':\n",
    "    'something_happens'"
   ]
  },
  {
   "cell_type": "markdown",
   "id": "0974e70f",
   "metadata": {},
   "source": [
    "Or, in a real case:"
   ]
  },
  {
   "cell_type": "code",
   "execution_count": 2,
   "id": "15e65d88",
   "metadata": {},
   "outputs": [
    {
     "name": "stdout",
     "output_type": "stream",
     "text": [
      "Right answer!\n"
     ]
    }
   ],
   "source": [
    "is_python_cool = True\n",
    "if is_python_cool:\n",
    "    print('Right answer!')"
   ]
  },
  {
   "cell_type": "markdown",
   "id": "71429679",
   "metadata": {},
   "source": [
    "Python accepts some logical conditions (as the ones in math):\n",
    "    \n",
    "* equals: `b == a`\n",
    "* not equal: `b != a`\n",
    "* less than: `b < a`\n",
    "* less than or equal to: `b <= a`\n",
    "* greater than: `b > a`\n",
    "* greater than or equal to: `b >= a`"
   ]
  },
  {
   "cell_type": "markdown",
   "id": "d8ef63cf",
   "metadata": {},
   "source": [
    "## 2.2 `else` statement"
   ]
  },
  {
   "cell_type": "markdown",
   "id": "144ba417",
   "metadata": {},
   "source": [
    "`else` is what happens if the if condition is not satisfied.\n",
    "<br> In other words: the continuation of the code."
   ]
  },
  {
   "cell_type": "code",
   "execution_count": 3,
   "id": "fc0da93d",
   "metadata": {},
   "outputs": [
    {
     "name": "stdout",
     "output_type": "stream",
     "text": [
      "So you thing Python is not cool?! Sniff\n"
     ]
    }
   ],
   "source": [
    "is_python_cool = False\n",
    "if is_python_cool:\n",
    "    print('Right answer!')\n",
    "else:\n",
    "    print('So you thing Python is not cool?! Sniff')"
   ]
  },
  {
   "cell_type": "markdown",
   "id": "bd567054",
   "metadata": {},
   "source": [
    "## 2.3 `elif` condition(s)"
   ]
  },
  {
   "cell_type": "markdown",
   "id": "d96c9fb8",
   "metadata": {},
   "source": [
    "If more than one condition is needed, we can use elif to add one or more conditions to the structure."
   ]
  },
  {
   "cell_type": "code",
   "execution_count": 4,
   "id": "87c30487",
   "metadata": {},
   "outputs": [
    {
     "name": "stdout",
     "output_type": "stream",
     "text": [
      "They're not equal!\n"
     ]
    }
   ],
   "source": [
    "some_number = 322\n",
    "some_other_number = 223\n",
    "if some_number > some_other_number:\n",
    "    print(\"They're not equal!\")\n",
    "elif some_number < some_other_number:\n",
    "    print('Still not equal...')\n",
    "else:\n",
    "    print(\"They're equal!\")"
   ]
  },
  {
   "cell_type": "markdown",
   "id": "96fb4395",
   "metadata": {},
   "source": [
    "## 2.4 Nested statement(s)"
   ]
  },
  {
   "cell_type": "markdown",
   "id": "5d4dfa66",
   "metadata": {},
   "source": [
    "An if statement can be added inside other if statement, creating one (or more) level of validation."
   ]
  },
  {
   "cell_type": "code",
   "execution_count": 5,
   "id": "02a8f383",
   "metadata": {},
   "outputs": [
    {
     "name": "stdout",
     "output_type": "stream",
     "text": [
      "This is a baby dog\n"
     ]
    }
   ],
   "source": [
    "miles = 'dog'\n",
    "age = 0.5\n",
    "if miles == 'dog':\n",
    "    if age < 2:\n",
    "        print('This is a baby dog')\n",
    "    else:\n",
    "        print('This is an adult dog')\n",
    "else:\n",
    "    print('This is not a dog')"
   ]
  },
  {
   "cell_type": "markdown",
   "id": "9d70a1ef",
   "metadata": {},
   "source": [
    "## 2.5 Shorthand statements"
   ]
  },
  {
   "cell_type": "markdown",
   "id": "8b3ab5ee",
   "metadata": {},
   "source": [
    "If there is only one condition to be tested, it can be made in just one line:"
   ]
  },
  {
   "cell_type": "code",
   "execution_count": 6,
   "id": "c140b3d0",
   "metadata": {},
   "outputs": [],
   "source": [
    "bird = 'bird'\n",
    "if miles == bird: print(\"They're the same species\")"
   ]
  },
  {
   "cell_type": "markdown",
   "id": "49fa62c2",
   "metadata": {},
   "source": [
    "In case of using else, it does not allows the use of colon."
   ]
  },
  {
   "cell_type": "code",
   "execution_count": 7,
   "id": "71b155d2",
   "metadata": {},
   "outputs": [
    {
     "name": "stdout",
     "output_type": "stream",
     "text": [
      "They're from different species\n"
     ]
    }
   ],
   "source": [
    "print(\"They're the same species\") if miles == bird else print(\"They're from different species\")"
   ]
  },
  {
   "cell_type": "markdown",
   "id": "feebbe56",
   "metadata": {},
   "source": [
    "# 3 Loops"
   ]
  },
  {
   "cell_type": "markdown",
   "id": "3e52279d",
   "metadata": {},
   "source": [
    "## 3.1 `for` loops"
   ]
  },
  {
   "cell_type": "markdown",
   "id": "253ecec4",
   "metadata": {},
   "source": [
    "Repetition structure.\n",
    "<br>Syntax:"
   ]
  },
  {
   "cell_type": "code",
   "execution_count": 8,
   "id": "048c2a8a",
   "metadata": {},
   "outputs": [
    {
     "name": "stdout",
     "output_type": "stream",
     "text": [
      "Say hello to iterations!\n",
      "Say hello to iterations!\n"
     ]
    }
   ],
   "source": [
    "other_variable = ['also', 'just to demonstrate']\n",
    "for each_iteration in other_variable: \n",
    "    print('Say hello to iterations!')"
   ]
  },
  {
   "cell_type": "markdown",
   "id": "2d90fa92",
   "metadata": {},
   "source": [
    "Other value usually HAS TO BE a collection (multiple values)."
   ]
  },
  {
   "cell_type": "markdown",
   "id": "c416d476",
   "metadata": {},
   "source": [
    "## 3.2 `break` and `continue`"
   ]
  },
  {
   "cell_type": "markdown",
   "id": "9462e9eb",
   "metadata": {},
   "source": [
    "They stop or continue the iteration based on a condition."
   ]
  },
  {
   "cell_type": "code",
   "execution_count": 9,
   "id": "42763141",
   "metadata": {},
   "outputs": [],
   "source": [
    "fruits = ['abacaxi','banana','carambola','damasco']\n",
    "for fruit in fruits:\n",
    "    if fruit == 'banana':\n",
    "        break\n",
    "# print('Plenty of fruits, huh?')"
   ]
  },
  {
   "cell_type": "code",
   "execution_count": 10,
   "id": "551b5a66",
   "metadata": {},
   "outputs": [
    {
     "name": "stdout",
     "output_type": "stream",
     "text": [
      "s\n",
      "t\n",
      "u\n",
      "v\n",
      "w\n",
      "Ops! Forbidden\n"
     ]
    }
   ],
   "source": [
    "forbidden_x = ['s', 't', 'u', 'v', 'w', 'x', 'y']\n",
    "for letter in forbidden_x:\n",
    "    if letter == 'x':\n",
    "        print('Ops! Forbidden')\n",
    "        break\n",
    "    print(letter)"
   ]
  },
  {
   "cell_type": "markdown",
   "id": "bf330698",
   "metadata": {},
   "source": [
    "If the condition is satisfied, the iterations stops."
   ]
  },
  {
   "cell_type": "code",
   "execution_count": 11,
   "id": "ca78246a",
   "metadata": {},
   "outputs": [
    {
     "name": "stdout",
     "output_type": "stream",
     "text": [
      "s\n",
      "t\n",
      "u\n",
      "v\n",
      "w\n",
      "Ops! Forbidden\n",
      "y\n"
     ]
    }
   ],
   "source": [
    "for letter in forbidden_x:\n",
    "    if letter == 'x':\n",
    "        print('Ops! Forbidden')\n",
    "        continue\n",
    "    print(letter)"
   ]
  },
  {
   "cell_type": "markdown",
   "id": "c658239b",
   "metadata": {},
   "source": [
    "If the condidtion is satisfied, the iteration that contains the satisfied value is skipped and the loop continues."
   ]
  },
  {
   "cell_type": "markdown",
   "id": "c75bb089",
   "metadata": {},
   "source": [
    "## 3.3 `while` loops"
   ]
  },
  {
   "cell_type": "markdown",
   "id": "d407b5fd",
   "metadata": {},
   "source": [
    "`while` loops execute a loop for as long as the condition is True."
   ]
  },
  {
   "cell_type": "markdown",
   "id": "483486bc",
   "metadata": {},
   "source": [
    "The main difference between for and while loop is that for loop depends on data.\n",
    "<br> `while` loop depends on condition."
   ]
  },
  {
   "cell_type": "code",
   "execution_count": 12,
   "id": "13f2eda1",
   "metadata": {},
   "outputs": [
    {
     "name": "stdout",
     "output_type": "stream",
     "text": [
      "0\n",
      "12\n",
      "24\n",
      "36\n",
      "48\n",
      "60\n",
      "72\n"
     ]
    }
   ],
   "source": [
    "i = 0\n",
    "while i <= 79:\n",
    "    print(i)\n",
    "    i+=12"
   ]
  },
  {
   "cell_type": "markdown",
   "id": "97b73368",
   "metadata": {},
   "source": [
    "Be careful, because if the condition is not satisfied, the loop will be executed nonstop.\n",
    "<br> Unless..."
   ]
  },
  {
   "cell_type": "markdown",
   "id": "3f2aef34",
   "metadata": {},
   "source": [
    "### 3.3.1 `while` loops with `break`/`continue`"
   ]
  },
  {
   "cell_type": "code",
   "execution_count": 13,
   "id": "1d5c1d61",
   "metadata": {},
   "outputs": [
    {
     "name": "stdout",
     "output_type": "stream",
     "text": [
      "0\n",
      "5\n",
      "10\n",
      "15\n",
      "20\n"
     ]
    }
   ],
   "source": [
    "i = 0\n",
    "while i <= 79:\n",
    "    print(i)\n",
    "    i+=5\n",
    "    if i == 25:\n",
    "        break"
   ]
  },
  {
   "cell_type": "markdown",
   "id": "64ee786e",
   "metadata": {},
   "source": [
    "### 3.3.2 `while` loops with `else` statements"
   ]
  },
  {
   "cell_type": "markdown",
   "id": "4bbaa44d",
   "metadata": {},
   "source": [
    "When condition becomes `False` (the while loop ends), than the else statement will be executed."
   ]
  },
  {
   "cell_type": "code",
   "execution_count": 14,
   "id": "1e896ae8",
   "metadata": {},
   "outputs": [
    {
     "name": "stdout",
     "output_type": "stream",
     "text": [
      "0\n",
      "4\n",
      "8\n",
      "It is less than 9\n"
     ]
    }
   ],
   "source": [
    "i = 0\n",
    "while i <= 9:\n",
    "    print(i)\n",
    "    i+=4\n",
    "else:\n",
    "    print('It is less than 9')"
   ]
  },
  {
   "cell_type": "markdown",
   "id": "e90edcdf",
   "metadata": {},
   "source": [
    "## 3.4 Creating a list using for loop and `range()`"
   ]
  },
  {
   "cell_type": "code",
   "execution_count": 15,
   "id": "6c7d9814",
   "metadata": {},
   "outputs": [
    {
     "name": "stdout",
     "output_type": "stream",
     "text": [
      "2550\n"
     ]
    }
   ],
   "source": [
    "initial = 0\n",
    "end = 100\n",
    "for i in range(end+1):\n",
    "    if i%2==0:\n",
    "        initial = initial+i\n",
    "print(initial)"
   ]
  },
  {
   "cell_type": "markdown",
   "id": "160359c0",
   "metadata": {},
   "source": [
    "# That's all for conditional structures!"
   ]
  },
  {
   "cell_type": "markdown",
   "id": "95a8c2d1",
   "metadata": {},
   "source": [
    "Saying once more: this is just a summary of my previous studies and not the totality of what can be learned in this topic.\n",
    "<br> I <i>strongly</i> suggest you do some exercise tests in platforms such as [HackerRank](https://www.hackerrank.com/domains/python), so you can feel closer to what real-life coding is like (I said closer because sometimes real-life code punch you right in the face. But don't fear you will sort things out!!!!)"
   ]
  }
 ],
 "metadata": {
  "kernelspec": {
   "display_name": "Python 3 (ipykernel)",
   "language": "python",
   "name": "python3"
  },
  "language_info": {
   "codemirror_mode": {
    "name": "ipython",
    "version": 3
   },
   "file_extension": ".py",
   "mimetype": "text/x-python",
   "name": "python",
   "nbconvert_exporter": "python",
   "pygments_lexer": "ipython3",
   "version": "3.9.6"
  }
 },
 "nbformat": 4,
 "nbformat_minor": 5
}
